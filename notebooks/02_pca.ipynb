{
 "cells": [
  {
   "cell_type": "markdown",
   "metadata": {},
   "source": [
    "# 主成分分析\n",
    "\n",
    "---\n",
    "## 目的\n",
    "主成分分析 (Principal Component Analysis; PCA) を用いてデータから潜在的な特徴を抽出する．\n",
    "\n",
    "## 対応するチャプター\n",
    "* 5.8: 主成分分析\n",
    "\n",
    "## モジュールのインポート\n",
    "プログラムの実行に必要なモジュールをインポートします．\n",
    "実験にはPythonの機械学習用ライブラリである，scikit-learnを使用します．\n",
    "使用するクラス，関数は以下の通りです．\n",
    "\n",
    "* `PCA`はサポートベクトルマシンを使用するためのクラス\n",
    "* `load_iris`はデータを読み込むための関数\n",
    "* `matplotlib`はグラフを描画するためのPythonライブラリ"
   ]
  },
  {
   "cell_type": "code",
   "execution_count": null,
   "metadata": {},
   "outputs": [],
   "source": [
    "from sklearn.decomposition import PCA\n",
    "from sklearn.datasets import load_iris\n",
    "import matplotlib.pyplot as plt"
   ]
  },
  {
   "cell_type": "markdown",
   "metadata": {},
   "source": [
    "## データセットの読み込み\n",
    "実験に使用するデータセットを読み込みます．\n",
    "\n",
    "今回はscikit-learnが提供する`load_iris`関数を用いて，データを読み込みます．\n",
    "iris datasetはアヤメの品種データセットであり，アヤメの種類で3クラス，データ数は150のデータセットです．\n",
    "各データはsepal length, sepal width, petal length, petal widthを表現した4次元のベクトルデータです．\n",
    "\n",
    "読み込んだ全てのデータのうち，`iris_data.data`でデータを読み込み，`iris_data.target`で教師ラベルをそれぞれ読み込みます．"
   ]
  },
  {
   "cell_type": "code",
   "execution_count": null,
   "metadata": {},
   "outputs": [],
   "source": [
    "iris_data = load_iris()\n",
    "x = iris_data.data\n",
    "y = iris_data.target\n",
    "print(x.shape)\n",
    "print(y.shape)"
   ]
  },
  {
   "cell_type": "markdown",
   "metadata": {},
   "source": [
    "## PCAの実行\n",
    "読み込んだデータに対してPCAを実行します．\n",
    "\n",
    "まず，`PCA`クラスを実行することでPCAを実行するための準備をします．\n",
    "\n",
    "その後，`fit`関数を用いることでPCAを実行します．"
   ]
  },
  {
   "cell_type": "code",
   "execution_count": null,
   "metadata": {},
   "outputs": [],
   "source": [
    "# PCAの準備\n",
    "pca = PCA()\n",
    "\n",
    "# PCAの実行\n",
    "pca.fit(x)"
   ]
  },
  {
   "cell_type": "markdown",
   "metadata": {},
   "source": [
    "## PCAで抽出した情報\n",
    "PCAで抽出した，主成分を元にデータを変換します．\n",
    "\n",
    "`fit_transform`関数を実行することで，抽出した主成分に対するデータの変換を行います．"
   ]
  },
  {
   "cell_type": "code",
   "execution_count": null,
   "metadata": {},
   "outputs": [],
   "source": [
    "transformed_x = pca.fit_transform(x)"
   ]
  },
  {
   "cell_type": "markdown",
   "metadata": {},
   "source": [
    "## irisデータの可視化\n",
    "irisデータの特徴をプロットして確認します．\n",
    "\n",
    "### PCA適用前のデータの可視化\n",
    "PCA適用前のデータをプロットします．\n",
    "irisデータは4次元の特徴を持っているため，各次元のペアごとに2次元でプロットすることで可視化を行います．"
   ]
  },
  {
   "cell_type": "code",
   "execution_count": null,
   "metadata": {},
   "outputs": [],
   "source": [
    "# 各特徴の名前を取得\n",
    "feature_names = iris_data.feature_names\n",
    "\n",
    "# アヤメの品種（クラス）ごとにデータを分割\n",
    "class0 = x[y == 0, :]\n",
    "class1 = x[y == 1, :]\n",
    "class2 = x[y == 2, :]\n",
    "\n",
    "fig = plt.figure(figsize=(12, 12))\n",
    "\n",
    "for j in range(4):\n",
    "    for i in range(4):\n",
    "        ax = fig.add_subplot(4, 4, j * 4 + i + 1)\n",
    "        \n",
    "        if j == i:\n",
    "            ax.text(0.25, 0.5, feature_names[i])\n",
    "            continue\n",
    "        \n",
    "        ax.scatter(class0[:, j], class0[:, i], s=10, color='red')\n",
    "        ax.scatter(class1[:, j], class1[:, i], s=10, color='green')\n",
    "        ax.scatter(class2[:, j], class2[:, i], s=10, color='blue')\n",
    "\n",
    "plt.show()\n",
    "plt.close()"
   ]
  },
  {
   "cell_type": "markdown",
   "metadata": {},
   "source": [
    "### PCA適用後のデータの可視化\n",
    "次に，PCAによる変換したデータの可視化を行います．\n",
    "\n",
    "第1主成分と第2主成分に対する特徴を用いて，2次元プロットを行います．"
   ]
  },
  {
   "cell_type": "code",
   "execution_count": null,
   "metadata": {},
   "outputs": [],
   "source": [
    "class_name = iris_data.target_names\n",
    "\n",
    "# アヤメの品種（クラス）ごとにデータを分割し，\n",
    "# 第１，第２主成分のみを取り出して保存\n",
    "class0 = transformed_x[y == 0, 0:2]\n",
    "class1 = transformed_x[y == 1, 0:2]\n",
    "class2 = transformed_x[y == 2, 0:2]\n",
    "\n",
    "# プロットします．\n",
    "fig = plt.figure(figsize=(6, 6))\n",
    "ax = fig.add_subplot(1, 1, 1)\n",
    "ax.scatter(class0[:, 0], class0[:, 1], color='red', label=class_name[0])\n",
    "ax.scatter(class1[:, 0], class0[:, 1], color='green', label=class_name[1])\n",
    "ax.scatter(class2[:, 0], class0[:, 1], color='blue', label=class_name[2])\n",
    "ax.set_xlabel(\"1st principal component\")\n",
    "ax.set_ylabel(\"2nd principal component\")\n",
    "ax.legend()\n",
    "plt.show()\n",
    "plt.close()"
   ]
  },
  {
   "cell_type": "code",
   "execution_count": null,
   "metadata": {},
   "outputs": [],
   "source": []
  }
 ],
 "metadata": {
  "kernelspec": {
   "display_name": "Python 3",
   "language": "python",
   "name": "python3"
  },
  "language_info": {
   "codemirror_mode": {
    "name": "ipython",
    "version": 3
   },
   "file_extension": ".py",
   "mimetype": "text/x-python",
   "name": "python",
   "nbconvert_exporter": "python",
   "pygments_lexer": "ipython3",
   "version": "3.5.2"
  }
 },
 "nbformat": 4,
 "nbformat_minor": 4
}
